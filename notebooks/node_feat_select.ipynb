{
 "cells": [
  {
   "cell_type": "code",
   "execution_count": 2,
   "metadata": {
    "collapsed": true,
    "pycharm": {
     "name": "#%%\n"
    }
   },
   "outputs": [],
   "source": [
    "import os\n",
    "import torch\n",
    "import numpy as np\n",
    "import warnings\n",
    "warnings.filterwarnings(\"ignore\")\n",
    "import matplotlib.pyplot as plt\n",
    "# %matplotlib inline\n",
    "from rdkit import Chem\n",
    "from rdkit.Chem.Draw import IPythonConsole\n",
    "from torch_geometric.loader import DataLoader\n",
    "from torch_geometric.datasets import TUDataset, MoleculeNet\n",
    "\n",
    "from models import GCN\n",
    "from utils.utils import atom_type_count, to_molecule, attribution_visualize, aggregate_edge_directions, attribution_visualize_edge\n",
    "from captum.attr import Saliency, IntegratedGradients\n",
    "from torch_geometric.explain import Explainer, PGExplainer, GNNExplainer\n",
    "from IPython.display import Image, display\n",
    "\n",
    "\n",
    "config = {\n",
    "    'dataset': 'ESOL',\n",
    "    'batch_size': 128,\n",
    "    'train': False,\n",
    "    \"lr\": 0.001,\n",
    "    \"epochs\": 100,\n",
    "    \"device\": torch.device('cuda' if torch.cuda.is_available() else 'cpu'),\n",
    "    \"img_save_dir\": \"./ouput\",\n",
    "    \"explain_topk\": 10,\n",
    "}\n",
    "device = config['device']\n",
    "# create output directory\n",
    "os.makedirs(config['img_save_dir'], exist_ok=True)"
   ]
  },
  {
   "cell_type": "code",
   "execution_count": 4,
   "outputs": [
    {
     "name": "stdout",
     "output_type": "stream",
     "text": [
      "Atom types:  {'S', 'O', 'N', 'P', 'C', 'Cl', 'F', 'I', 'Br'}\n",
      "GCN(\n",
      "  (initial_conv): GCNConv(9, 64)\n",
      "  (conv1): GCNConv(64, 64)\n",
      "  (conv2): GCNConv(64, 64)\n",
      "  (conv3): GCNConv(64, 64)\n",
      "  (out): Linear(in_features=128, out_features=1, bias=True)\n",
      ")\n",
      "Number of parameters:  13249\n",
      "Data(x=[32, 9], edge_index=[2, 68], edge_attr=[68, 3], smiles='OCC3OC(OCC2OC(OC(C#N)c1ccccc1)C(O)C(O)C2O)C(O)C(O)C3O ', y=[1, 1])\n"
     ]
    },
    {
     "data": {
      "image/png": "[encoded data removed]",
      "text/plain": "<IPython.core.display.Image object>"
     },
     "metadata": {},
     "output_type": "display_data"
    },
    {
     "name": "stdout",
     "output_type": "stream",
     "text": [
      "Original molecule\n",
      "--------------------------------------------------\n",
      "Explanation(node_mask=[1, 9], target=[1, 1], x=[32, 9], edge_index=[2, 68])\n",
      "tensor([[0.4822, 0.0000, 0.5235, 0.5283, 0.4616, 0.0000, 0.4666, 0.3655, 0.3753]])\n"
     ]
    }
   ],
   "source": [
    "\n",
    "dataset = MoleculeNet('MoleculeNet', config['dataset'])\n",
    "test_dataset = dataset[:len(dataset) // 10]\n",
    "valid_dataset = dataset[len(dataset) // 10:2 * len(dataset) // 10]\n",
    "train_dataset = dataset[2 * len(dataset) // 10:]\n",
    "test_loader = DataLoader(test_dataset, batch_size=128)\n",
    "valid_loader = DataLoader(valid_dataset, batch_size=128)\n",
    "train_loader = DataLoader(train_dataset, batch_size=128, shuffle=True)\n",
    "\n",
    "# print(\"Dataset type: \", type(dataset))\n",
    "# print(\"Dataset features: \", dataset.num_features)\n",
    "# print(\"Dataset length: \", dataset.len)\n",
    "# print(\"Dataset splits: train, valid, test: \", len(train_dataset), len(valid_dataset), len(test_dataset))\n",
    "# print(\"Dataset sample: \", dataset[0])\n",
    "# print(\"Sample  nodes: \", dataset[0].num_nodes)\n",
    "# print(\"Sample  edges: \", dataset[0].num_edges)\n",
    "\n",
    "# count atom types\n",
    "atom_types = atom_type_count(dataset)\n",
    "print(\"Atom types: \", atom_types)\n",
    "\n",
    "\n",
    "\n",
    "model = GCN()\n",
    "print(model)\n",
    "loss_fn = torch.nn.MSELoss()\n",
    "optimizer = torch.optim.Adam(model.parameters(), lr=1e-3)\n",
    "scheduler = torch.optim.lr_scheduler.ReduceLROnPlateau(optimizer, mode='min',\n",
    "                                                       factor=0.7, patience=5,\n",
    "                                                       min_lr=1e-10)\n",
    "print(\"Number of parameters: \", sum(p.numel() for p in model.parameters()))\n",
    "model.load_state_dict(torch.load(f\"gnn_model_{config['dataset'].lower()}.pth\"))\n",
    "model.eval()\n",
    "\n",
    "\n",
    "visualize_index = 0\n",
    "\n",
    "data = test_dataset[visualize_index]\n",
    "print(data)\n",
    "molecule = Chem.MolFromSmiles(dataset[0][\"smiles\"])\n",
    "img_save_path = f\"{config['img_save_dir']}/{config['dataset']}/{visualize_index}/original.png\"\n",
    "os.makedirs(f\"{config['img_save_dir']}/{config['dataset']}/{visualize_index}\", exist_ok=True)\n",
    "attribution_visualize(dataset[0][\"smiles\"], {}, {}, img_save_path)\n",
    "img = Image(filename='{}_atom.png'.format(data[\"smiles\"]))\n",
    "display(img)\n",
    "print(\"Original molecule\")\n",
    "print('-' * 50)\n",
    "\n",
    "\n",
    "def model_forward(edge_mask, data):\n",
    "    batch = torch.zeros(data.x.shape[0], dtype=int).to(device)\n",
    "    out = model(data.x.float(), data.edge_index, batch, edge_mask)\n",
    "    return out\n",
    "\n",
    "# node feature\n",
    "\n",
    "gnnexplainer = Explainer(\n",
    "    model=model,\n",
    "    algorithm=GNNExplainer(epochs=100),\n",
    "    explanation_type='phenomenon',\n",
    "    node_mask_type='common_attributes',\n",
    "    model_config=dict(\n",
    "        mode='regression',\n",
    "        task_level='graph',\n",
    "        return_type='raw',\n",
    "),\n",
    "# Include only the top 10 most important edges:\n",
    "threshold_config=dict(threshold_type='topk', value=config['explain_topk']),\n",
    ")\n",
    "\n",
    "explanation = gnnexplainer(data.x.float(), data.edge_index, batch_index=data.batch, target=data.y)\n",
    "print(explanation)\n",
    "print(explanation.node_mask)\n",
    "\n",
    "\"\"\"\n",
    "        row.append(x_map['atomic_num'].index(atom.GetAtomicNum()))\n",
    "        row.append(x_map['chirality'].index(str(atom.GetChiralTag())))\n",
    "        row.append(x_map['degree'].index(atom.GetTotalDegree()))\n",
    "        row.append(x_map['formal_charge'].index(atom.GetFormalCharge()))\n",
    "        row.append(x_map['num_hs'].index(atom.GetTotalNumHs()))\n",
    "        row.append(x_map['num_radical_electrons'].index(atom.GetNumRadicalElectrons()))\n",
    "        row.append(x_map['hybridization'].index(str(atom.GetHybridization())))\n",
    "        row.append(x_map['is_aromatic'].index(atom.GetIsAromatic()))\n",
    "        row.append(x_map['is_in_ring'].index(atom.IsInRing()))\n",
    "\"\"\"\n"
   ],
   "metadata": {
    "collapsed": false,
    "pycharm": {
     "name": "#%%\n"
    }
   }
  },
  {
   "cell_type": "code",
   "execution_count": null,
   "outputs": [],
   "source": [],
   "metadata": {
    "collapsed": false,
    "pycharm": {
     "name": "#%%\n"
    }
   }
  }
 ],
 "metadata": {
  "kernelspec": {
   "display_name": "Python 3",
   "language": "python",
   "name": "python3"
  },
  "language_info": {
   "codemirror_mode": {
    "name": "ipython",
    "version": 2
   },
   "file_extension": ".py",
   "mimetype": "text/x-python",
   "name": "python",
   "nbconvert_exporter": "python",
   "pygments_lexer": "ipython2",
   "version": "2.7.6"
  }
 },
 "nbformat": 4,
 "nbformat_minor": 0
}